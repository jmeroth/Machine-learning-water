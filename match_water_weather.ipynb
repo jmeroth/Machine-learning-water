{
 "cells": [
  {
   "cell_type": "code",
   "execution_count": 1,
   "metadata": {},
   "outputs": [],
   "source": [
    "import pandas as pd\n",
    "import numpy as np"
   ]
  },
  {
   "cell_type": "code",
   "execution_count": 2,
   "metadata": {},
   "outputs": [],
   "source": [
    "weatherStation = pd.read_csv('rain2016indexed.csv')\n",
    "waterSystem = pd.read_csv('waterSystemLocation2.csv')"
   ]
  },
  {
   "cell_type": "code",
   "execution_count": 3,
   "metadata": {},
   "outputs": [
    {
     "name": "stdout",
     "output_type": "stream",
     "text": [
      "       PWSID    geo_lat   geo_lon\n",
      "0  VA1121090  37.136013 -80.41222\n",
      "1  VA1063140  36.910051 -80.30871\n",
      "2  VA5067943  36.901203 -80.07150\n",
      "3  VA2005180  38.103122 -79.81478\n",
      "4  VA6033176  37.959690 -77.47733\n",
      "   Unnamed: 0 State               Station       Lat        Lon  r2016  id\n",
      "0           1    CA  STOVEPIPE WELLS 1 SW  36.60200 -117.14490   1.15   1\n",
      "1           2    CA          DEATH VALLEY  36.46220 -116.86690   1.42   2\n",
      "2           3    CA    IMPERIAL COUNTY AP  32.83417 -115.57861   1.76   3\n",
      "3           4    AZ         YUMA 13.8 ESE  32.63410 -114.40560   1.87   4\n",
      "4           5    AZ           YUMA 7.7 SE  32.64320 -114.52300   1.90   5\n"
     ]
    }
   ],
   "source": [
    "# print(waterSystem.head)\n",
    "print(waterSystem[:5])\n",
    "print(weatherStation[:5])\n",
    "# print(waterSystem['PWSID'])"
   ]
  },
  {
   "cell_type": "code",
   "execution_count": 4,
   "metadata": {},
   "outputs": [
    {
     "name": "stdout",
     "output_type": "stream",
     "text": [
      "PWSID      WV3302828\n",
      "geo_lat      37.3942\n",
      "geo_lon     -81.2187\n",
      "Name: 5, dtype: object\n",
      "Unnamed: 0                      6\n",
      "State                          AZ\n",
      "Station       YUMA PROVING GROUND\n",
      "Lat                       32.8356\n",
      "Lon                      -114.394\n",
      "r2016                        2.07\n",
      "id                              6\n",
      "Name: 5, dtype: object\n"
     ]
    }
   ],
   "source": [
    "print(waterSystem.iloc[5])\n",
    "print(weatherStation.iloc[5])"
   ]
  },
  {
   "cell_type": "code",
   "execution_count": 5,
   "metadata": {},
   "outputs": [
    {
     "name": "stdout",
     "output_type": "stream",
     "text": [
      "[[ 37.136013 -80.41222 ]\n",
      " [ 36.910051 -80.30871 ]\n",
      " [ 36.901203 -80.0715  ]\n",
      " ...\n",
      " [ 35.501448 -81.00412 ]\n",
      " [ 35.501448 -81.00412 ]\n",
      " [ 35.501448 -81.00412 ]]\n",
      "[[  36.602   -117.1449 ]\n",
      " [  36.4622  -116.8669 ]\n",
      " [  32.83417 -115.57861]\n",
      " ...\n",
      " [  19.7509  -155.1362 ]\n",
      " [  19.8494  -155.14999]\n",
      " [  60.5181  -148.09309]]\n",
      "(135681, 2)\n",
      "(9191, 2)\n",
      "[ 37.136013 -80.41222 ]\n",
      "[  36.602  -117.1449]\n",
      "<class 'numpy.ndarray'>\n",
      "<class 'numpy.ndarray'>\n"
     ]
    }
   ],
   "source": [
    "weatherLatLong = weatherStation[['Lat','Lon']].values\n",
    "waterLatLong = waterSystem[['geo_lat','geo_lon']].values\n",
    "print(str(waterLatLong))\n",
    "print(str(weatherLatLong))\n",
    "print(waterLatLong.shape)\n",
    "print(weatherLatLong.shape)\n",
    "print(waterLatLong[0])\n",
    "print(weatherLatLong[0])\n",
    "print(type(waterLatLong))\n",
    "print(type(weatherLatLong))"
   ]
  },
  {
   "cell_type": "code",
   "execution_count": 6,
   "metadata": {},
   "outputs": [],
   "source": [
    "import time\n",
    "import scipy.spatial.distance"
   ]
  },
  {
   "cell_type": "code",
   "execution_count": 7,
   "metadata": {},
   "outputs": [],
   "source": [
    "bestWeatherStations = []"
   ]
  },
  {
   "cell_type": "code",
   "execution_count": 9,
   "metadata": {},
   "outputs": [],
   "source": [
    "start = time.time()\n",
    "Y = scipy.spatial.distance.cdist(waterLatLong,weatherLatLong)\n",
    "print(type(Y))\n",
    "print(Y.shape)\n",
    "end = time.time()\n",
    "print('Total computation time is ...', end-start, 'seconds.')"
   ]
  },
  {
   "cell_type": "code",
   "execution_count": 13,
   "metadata": {
    "collapsed": true
   },
   "outputs": [
    {
     "name": "stdout",
     "output_type": "stream",
     "text": [
      "Total computation time is ... 1022.3106911182404 seconds.\n"
     ]
    }
   ],
   "source": [
    "start = time.time()\n",
    "bestOrder = np.argmin(Y,axis=1)\n",
    "end = time.time()\n",
    "print('Total computation time is ...', end-start, 'seconds.')"
   ]
  },
  {
   "cell_type": "code",
   "execution_count": 14,
   "metadata": {
    "collapsed": true
   },
   "outputs": [
    {
     "name": "stdout",
     "output_type": "stream",
     "text": [
      "5782    40.36\n",
      "6880    44.86\n",
      "7516    48.67\n",
      "7346    47.62\n",
      "8113    54.38\n",
      "4221    34.83\n",
      "7192    46.57\n",
      "7245    46.95\n",
      "4416    35.59\n",
      "4901    37.31\n",
      "4901    37.31\n",
      "4901    37.31\n",
      "4450    35.75\n",
      "6262    42.21\n",
      "6262    42.21\n",
      "3733    32.71\n",
      "1139    14.60\n",
      "1139    14.60\n",
      "956     13.50\n",
      "254      8.48\n",
      "321      9.10\n",
      "321      9.10\n",
      "803     12.60\n",
      "524     10.64\n",
      "1139    14.60\n",
      "1139    14.60\n",
      "1363    15.80\n",
      "6079    41.51\n",
      "3238    29.83\n",
      "4047    33.99\n",
      "        ...  \n",
      "8035    53.48\n",
      "8035    53.48\n",
      "1455    16.33\n",
      "724     12.11\n",
      "4191    34.71\n",
      "4141    34.50\n",
      "4141    34.50\n",
      "3772    32.88\n",
      "4863    37.22\n",
      "4863    37.22\n",
      "1214    15.07\n",
      "6250    42.15\n",
      "6286    42.30\n",
      "111      6.47\n",
      "2854    27.10\n",
      "3818    33.05\n",
      "3818    33.05\n",
      "3656    32.31\n",
      "4060    34.09\n",
      "3656    32.31\n",
      "3656    32.31\n",
      "7986    52.88\n",
      "3810    33.01\n",
      "3810    33.01\n",
      "3810    33.01\n",
      "3810    33.01\n",
      "3810    33.01\n",
      "3810    33.01\n",
      "3810    33.01\n",
      "3810    33.01\n",
      "Name: r2016, Length: 135681, dtype: float64\n"
     ]
    }
   ],
   "source": [
    "nearestWeatherStations = weatherStation['r2016'][bestOrder]\n",
    "\n",
    "print(nearestWeatherStations)"
   ]
  },
  {
   "cell_type": "code",
   "execution_count": 15,
   "metadata": {},
   "outputs": [
    {
     "name": "stdout",
     "output_type": "stream",
     "text": [
      "(135681, 1)\n",
      "(135681,)\n"
     ]
    }
   ],
   "source": [
    "print(waterSystem[['PWSID']].shape)\n",
    "print(nearestWeatherStations.shape)"
   ]
  },
  {
   "cell_type": "code",
   "execution_count": 16,
   "metadata": {
    "collapsed": true
   },
   "outputs": [
    {
     "name": "stdout",
     "output_type": "stream",
     "text": [
      "True\n",
      "False\n"
     ]
    },
    {
     "data": {
      "text/plain": [
       "True"
      ]
     },
     "execution_count": 16,
     "metadata": {},
     "output_type": "execute_result"
    }
   ],
   "source": [
    "print(isinstance(waterSystem[['PWSID']],pd.DataFrame))\n",
    "print(isinstance(nearestWeatherStations,pd.DataFrame))\n",
    "\n",
    "nearestWeatherStations = pd.DataFrame(np.expand_dims(nearestWeatherStations,1))\n",
    "\n",
    "isinstance(nearestWeatherStations,pd.DataFrame)"
   ]
  },
  {
   "cell_type": "code",
   "execution_count": 17,
   "metadata": {},
   "outputs": [],
   "source": [
    "nearestWeatherStationResults = waterSystem[['PWSID']].join(nearestWeatherStations)"
   ]
  },
  {
   "cell_type": "code",
   "execution_count": 18,
   "metadata": {
    "collapsed": true
   },
   "outputs": [
    {
     "name": "stdout",
     "output_type": "stream",
     "text": [
      "            PWSID      0\n",
      "0       VA1121090  40.36\n",
      "1       VA1063140  44.86\n",
      "2       VA5067943  48.67\n",
      "3       VA2005180  47.62\n",
      "4       VA6033176  54.38\n",
      "5       WV3302828  34.83\n",
      "6       WV9927109  46.57\n",
      "7       WV9955078  46.95\n",
      "8       NH0387020  35.59\n",
      "9       NH0387030  37.31\n",
      "10      NH0387050  37.31\n",
      "11      NH0387080  37.31\n",
      "12      NH0387090  35.75\n",
      "13      NH0388010  42.21\n",
      "14      NH0388020  42.21\n",
      "15      WI2300719  32.71\n",
      "16      NM3591129  14.60\n",
      "17      NM3501029  14.60\n",
      "18      NM3590505  13.50\n",
      "19      NM3528707   8.48\n",
      "20      NM3580907   9.10\n",
      "21      NM3580807   9.10\n",
      "22      NM3524030  12.60\n",
      "23      NM3593003  10.64\n",
      "24      NM3505429  14.60\n",
      "25      NM3575029  14.60\n",
      "26      NM3595729  15.80\n",
      "27      NY4530182  41.51\n",
      "28      NY4906172  29.83\n",
      "29      NY1030297  33.99\n",
      "...           ...    ...\n",
      "135651  FL6384610  53.48\n",
      "135652  FL6384611  53.48\n",
      "135653  WA5315571  16.33\n",
      "135654  WA5315595  12.11\n",
      "135655  VT0020402  34.71\n",
      "135656  VT0006561  34.50\n",
      "135657  VT0006508  34.50\n",
      "135658  WI4201224  32.88\n",
      "135659  CT1539031  37.22\n",
      "135660  CT1530021  37.22\n",
      "135661  ID2350030  15.07\n",
      "135662  CT1230034  42.15\n",
      "135663  ID7220052  42.30\n",
      "135664  CA5403204   6.47\n",
      "135665  CA4810036  27.10\n",
      "135666  OK3006612  33.05\n",
      "135667  OK3006628  33.05\n",
      "135668  OK3007201  32.31\n",
      "135669  OK2005904  34.09\n",
      "135670  OK1020419  32.31\n",
      "135671  OK3001940  32.31\n",
      "135672  NC0392045  52.88\n",
      "135673  NC0241197  33.01\n",
      "135674  NC0241194  33.01\n",
      "135675  NC0241193  33.01\n",
      "135676  NC0241191  33.01\n",
      "135677  NC0241154  33.01\n",
      "135678  NC0241144  33.01\n",
      "135679  NC0241136  33.01\n",
      "135680  NC0241117  33.01\n",
      "\n",
      "[135681 rows x 2 columns]\n"
     ]
    }
   ],
   "source": [
    "print(nearestWeatherStationResults)"
   ]
  },
  {
   "cell_type": "code",
   "execution_count": 20,
   "metadata": {},
   "outputs": [],
   "source": [
    "nearestWeatherStationResults.to_csv(\"wsAnnualRain.csv\")"
   ]
  },
  {
   "cell_type": "code",
   "execution_count": 24,
   "metadata": {
    "collapsed": true
   },
   "outputs": [
    {
     "name": "stdout",
     "output_type": "stream",
     "text": [
      "<class 'pandas.core.series.Series'>\n"
     ]
    },
    {
     "ename": "TypeError",
     "evalue": "'>=' not supported between instances of 'numpy.ndarray' and 'str'",
     "output_type": "error",
     "traceback": [
      "\u001b[1;31m---------------------------------------------------------------------------\u001b[0m",
      "\u001b[1;31mTypeError\u001b[0m                                 Traceback (most recent call last)",
      "\u001b[1;32m~\\AppData\\Local\\Continuum\\anaconda3\\lib\\site-packages\\pandas\\core\\nanops.py\u001b[0m in \u001b[0;36mf\u001b[1;34m(values, axis, skipna, **kwds)\u001b[0m\n\u001b[0;32m    126\u001b[0m                 \u001b[1;32melse\u001b[0m\u001b[1;33m:\u001b[0m\u001b[1;33m\u001b[0m\u001b[1;33m\u001b[0m\u001b[0m\n\u001b[1;32m--> 127\u001b[1;33m                     \u001b[0mresult\u001b[0m \u001b[1;33m=\u001b[0m \u001b[0malt\u001b[0m\u001b[1;33m(\u001b[0m\u001b[0mvalues\u001b[0m\u001b[1;33m,\u001b[0m \u001b[0maxis\u001b[0m\u001b[1;33m=\u001b[0m\u001b[0maxis\u001b[0m\u001b[1;33m,\u001b[0m \u001b[0mskipna\u001b[0m\u001b[1;33m=\u001b[0m\u001b[0mskipna\u001b[0m\u001b[1;33m,\u001b[0m \u001b[1;33m**\u001b[0m\u001b[0mkwds\u001b[0m\u001b[1;33m)\u001b[0m\u001b[1;33m\u001b[0m\u001b[1;33m\u001b[0m\u001b[0m\n\u001b[0m\u001b[0;32m    128\u001b[0m             \u001b[1;32mexcept\u001b[0m \u001b[0mException\u001b[0m\u001b[1;33m:\u001b[0m\u001b[1;33m\u001b[0m\u001b[1;33m\u001b[0m\u001b[0m\n",
      "\u001b[1;32m~\\AppData\\Local\\Continuum\\anaconda3\\lib\\site-packages\\pandas\\core\\nanops.py\u001b[0m in \u001b[0;36mreduction\u001b[1;34m(values, axis, skipna, mask)\u001b[0m\n\u001b[0;32m    741\u001b[0m         \u001b[1;32melse\u001b[0m\u001b[1;33m:\u001b[0m\u001b[1;33m\u001b[0m\u001b[1;33m\u001b[0m\u001b[0m\n\u001b[1;32m--> 742\u001b[1;33m             \u001b[0mresult\u001b[0m \u001b[1;33m=\u001b[0m \u001b[0mgetattr\u001b[0m\u001b[1;33m(\u001b[0m\u001b[0mvalues\u001b[0m\u001b[1;33m,\u001b[0m \u001b[0mmeth\u001b[0m\u001b[1;33m)\u001b[0m\u001b[1;33m(\u001b[0m\u001b[0maxis\u001b[0m\u001b[1;33m)\u001b[0m\u001b[1;33m\u001b[0m\u001b[1;33m\u001b[0m\u001b[0m\n\u001b[0m\u001b[0;32m    743\u001b[0m \u001b[1;33m\u001b[0m\u001b[0m\n",
      "\u001b[1;32m~\\AppData\\Local\\Continuum\\anaconda3\\lib\\site-packages\\numpy\\core\\_methods.py\u001b[0m in \u001b[0;36m_amin\u001b[1;34m(a, axis, out, keepdims, initial)\u001b[0m\n\u001b[0;32m     31\u001b[0m           initial=_NoValue):\n\u001b[1;32m---> 32\u001b[1;33m     \u001b[1;32mreturn\u001b[0m \u001b[0mumr_minimum\u001b[0m\u001b[1;33m(\u001b[0m\u001b[0ma\u001b[0m\u001b[1;33m,\u001b[0m \u001b[0maxis\u001b[0m\u001b[1;33m,\u001b[0m \u001b[1;32mNone\u001b[0m\u001b[1;33m,\u001b[0m \u001b[0mout\u001b[0m\u001b[1;33m,\u001b[0m \u001b[0mkeepdims\u001b[0m\u001b[1;33m,\u001b[0m \u001b[0minitial\u001b[0m\u001b[1;33m)\u001b[0m\u001b[1;33m\u001b[0m\u001b[1;33m\u001b[0m\u001b[0m\n\u001b[0m\u001b[0;32m     33\u001b[0m \u001b[1;33m\u001b[0m\u001b[0m\n",
      "\u001b[1;31mTypeError\u001b[0m: '>=' not supported between instances of 'numpy.ndarray' and 'str'",
      "\nDuring handling of the above exception, another exception occurred:\n",
      "\u001b[1;31mTypeError\u001b[0m                                 Traceback (most recent call last)",
      "\u001b[1;32m<ipython-input-24-aa97c03a56b1>\u001b[0m in \u001b[0;36m<module>\u001b[1;34m\u001b[0m\n\u001b[0;32m     11\u001b[0m  \u001b[1;32mreturn\u001b[0m \u001b[0mseries\u001b[0m\u001b[1;33m.\u001b[0m\u001b[0mapply\u001b[0m\u001b[1;33m(\u001b[0m\u001b[1;32mlambda\u001b[0m \u001b[0mx\u001b[0m\u001b[1;33m:\u001b[0m\u001b[1;33m(\u001b[0m\u001b[1;33m(\u001b[0m\u001b[0mx\u001b[0m \u001b[1;33m-\u001b[0m \u001b[0mmin_val\u001b[0m\u001b[1;33m)\u001b[0m \u001b[1;33m/\u001b[0m \u001b[0mscale\u001b[0m\u001b[1;33m)\u001b[0m \u001b[1;33m-\u001b[0m \u001b[1;36m1.0\u001b[0m\u001b[1;33m)\u001b[0m\u001b[1;33m\u001b[0m\u001b[1;33m\u001b[0m\u001b[0m\n\u001b[0;32m     12\u001b[0m \u001b[1;33m\u001b[0m\u001b[0m\n\u001b[1;32m---> 13\u001b[1;33m \u001b[0mrainResults\u001b[0m \u001b[1;33m=\u001b[0m \u001b[0mlinear_scale\u001b[0m\u001b[1;33m(\u001b[0m\u001b[0mresultSeries\u001b[0m\u001b[1;33m)\u001b[0m\u001b[1;33m\u001b[0m\u001b[1;33m\u001b[0m\u001b[0m\n\u001b[0m\u001b[0;32m     14\u001b[0m \u001b[1;33m\u001b[0m\u001b[0m\n\u001b[0;32m     15\u001b[0m \u001b[0mprint\u001b[0m\u001b[1;33m(\u001b[0m\u001b[0mtype\u001b[0m\u001b[1;33m(\u001b[0m\u001b[0mrainResults\u001b[0m\u001b[1;33m)\u001b[0m\u001b[1;33m)\u001b[0m\u001b[1;33m\u001b[0m\u001b[1;33m\u001b[0m\u001b[0m\n",
      "\u001b[1;32m<ipython-input-24-aa97c03a56b1>\u001b[0m in \u001b[0;36mlinear_scale\u001b[1;34m(series)\u001b[0m\n\u001b[0;32m      6\u001b[0m \u001b[1;33m\u001b[0m\u001b[0m\n\u001b[0;32m      7\u001b[0m \u001b[1;32mdef\u001b[0m \u001b[0mlinear_scale\u001b[0m\u001b[1;33m(\u001b[0m\u001b[0mseries\u001b[0m\u001b[1;33m)\u001b[0m\u001b[1;33m:\u001b[0m\u001b[1;33m\u001b[0m\u001b[1;33m\u001b[0m\u001b[0m\n\u001b[1;32m----> 8\u001b[1;33m  \u001b[0mmin_val\u001b[0m \u001b[1;33m=\u001b[0m \u001b[0mseries\u001b[0m\u001b[1;33m.\u001b[0m\u001b[0mmin\u001b[0m\u001b[1;33m(\u001b[0m\u001b[1;33m)\u001b[0m\u001b[1;33m\u001b[0m\u001b[1;33m\u001b[0m\u001b[0m\n\u001b[0m\u001b[0;32m      9\u001b[0m  \u001b[0mmax_val\u001b[0m \u001b[1;33m=\u001b[0m \u001b[0mseries\u001b[0m\u001b[1;33m.\u001b[0m\u001b[0mmax\u001b[0m\u001b[1;33m(\u001b[0m\u001b[1;33m)\u001b[0m\u001b[1;33m\u001b[0m\u001b[1;33m\u001b[0m\u001b[0m\n\u001b[0;32m     10\u001b[0m  \u001b[0mscale\u001b[0m \u001b[1;33m=\u001b[0m \u001b[1;33m(\u001b[0m\u001b[0mmax_val\u001b[0m \u001b[1;33m-\u001b[0m \u001b[0mmin_val\u001b[0m\u001b[1;33m)\u001b[0m \u001b[1;33m/\u001b[0m \u001b[1;36m2.0\u001b[0m\u001b[1;33m\u001b[0m\u001b[1;33m\u001b[0m\u001b[0m\n",
      "\u001b[1;32m~\\AppData\\Local\\Continuum\\anaconda3\\lib\\site-packages\\pandas\\core\\generic.py\u001b[0m in \u001b[0;36mstat_func\u001b[1;34m(self, axis, skipna, level, numeric_only, **kwargs)\u001b[0m\n\u001b[0;32m  10954\u001b[0m                                       skipna=skipna)\n\u001b[0;32m  10955\u001b[0m         return self._reduce(f, name, axis=axis, skipna=skipna,\n\u001b[1;32m> 10956\u001b[1;33m                             numeric_only=numeric_only)\n\u001b[0m\u001b[0;32m  10957\u001b[0m \u001b[1;33m\u001b[0m\u001b[0m\n\u001b[0;32m  10958\u001b[0m     \u001b[1;32mreturn\u001b[0m \u001b[0mset_function_name\u001b[0m\u001b[1;33m(\u001b[0m\u001b[0mstat_func\u001b[0m\u001b[1;33m,\u001b[0m \u001b[0mname\u001b[0m\u001b[1;33m,\u001b[0m \u001b[0mcls\u001b[0m\u001b[1;33m)\u001b[0m\u001b[1;33m\u001b[0m\u001b[1;33m\u001b[0m\u001b[0m\n",
      "\u001b[1;32m~\\AppData\\Local\\Continuum\\anaconda3\\lib\\site-packages\\pandas\\core\\series.py\u001b[0m in \u001b[0;36m_reduce\u001b[1;34m(self, op, name, axis, skipna, numeric_only, filter_type, **kwds)\u001b[0m\n\u001b[0;32m   3628\u001b[0m                                           'numeric_only.'.format(name))\n\u001b[0;32m   3629\u001b[0m             \u001b[1;32mwith\u001b[0m \u001b[0mnp\u001b[0m\u001b[1;33m.\u001b[0m\u001b[0merrstate\u001b[0m\u001b[1;33m(\u001b[0m\u001b[0mall\u001b[0m\u001b[1;33m=\u001b[0m\u001b[1;34m'ignore'\u001b[0m\u001b[1;33m)\u001b[0m\u001b[1;33m:\u001b[0m\u001b[1;33m\u001b[0m\u001b[1;33m\u001b[0m\u001b[0m\n\u001b[1;32m-> 3630\u001b[1;33m                 \u001b[1;32mreturn\u001b[0m \u001b[0mop\u001b[0m\u001b[1;33m(\u001b[0m\u001b[0mdelegate\u001b[0m\u001b[1;33m,\u001b[0m \u001b[0mskipna\u001b[0m\u001b[1;33m=\u001b[0m\u001b[0mskipna\u001b[0m\u001b[1;33m,\u001b[0m \u001b[1;33m**\u001b[0m\u001b[0mkwds\u001b[0m\u001b[1;33m)\u001b[0m\u001b[1;33m\u001b[0m\u001b[1;33m\u001b[0m\u001b[0m\n\u001b[0m\u001b[0;32m   3631\u001b[0m \u001b[1;33m\u001b[0m\u001b[0m\n\u001b[0;32m   3632\u001b[0m         \u001b[1;31m# TODO(EA) dispatch to Index\u001b[0m\u001b[1;33m\u001b[0m\u001b[1;33m\u001b[0m\u001b[1;33m\u001b[0m\u001b[0m\n",
      "\u001b[1;32m~\\AppData\\Local\\Continuum\\anaconda3\\lib\\site-packages\\pandas\\core\\nanops.py\u001b[0m in \u001b[0;36mf\u001b[1;34m(values, axis, skipna, **kwds)\u001b[0m\n\u001b[0;32m    128\u001b[0m             \u001b[1;32mexcept\u001b[0m \u001b[0mException\u001b[0m\u001b[1;33m:\u001b[0m\u001b[1;33m\u001b[0m\u001b[1;33m\u001b[0m\u001b[0m\n\u001b[0;32m    129\u001b[0m                 \u001b[1;32mtry\u001b[0m\u001b[1;33m:\u001b[0m\u001b[1;33m\u001b[0m\u001b[1;33m\u001b[0m\u001b[0m\n\u001b[1;32m--> 130\u001b[1;33m                     \u001b[0mresult\u001b[0m \u001b[1;33m=\u001b[0m \u001b[0malt\u001b[0m\u001b[1;33m(\u001b[0m\u001b[0mvalues\u001b[0m\u001b[1;33m,\u001b[0m \u001b[0maxis\u001b[0m\u001b[1;33m=\u001b[0m\u001b[0maxis\u001b[0m\u001b[1;33m,\u001b[0m \u001b[0mskipna\u001b[0m\u001b[1;33m=\u001b[0m\u001b[0mskipna\u001b[0m\u001b[1;33m,\u001b[0m \u001b[1;33m**\u001b[0m\u001b[0mkwds\u001b[0m\u001b[1;33m)\u001b[0m\u001b[1;33m\u001b[0m\u001b[1;33m\u001b[0m\u001b[0m\n\u001b[0m\u001b[0;32m    131\u001b[0m                 \u001b[1;32mexcept\u001b[0m \u001b[0mValueError\u001b[0m \u001b[1;32mas\u001b[0m \u001b[0me\u001b[0m\u001b[1;33m:\u001b[0m\u001b[1;33m\u001b[0m\u001b[1;33m\u001b[0m\u001b[0m\n\u001b[0;32m    132\u001b[0m                     \u001b[1;31m# we want to transform an object array\u001b[0m\u001b[1;33m\u001b[0m\u001b[1;33m\u001b[0m\u001b[1;33m\u001b[0m\u001b[0m\n",
      "\u001b[1;32m~\\AppData\\Local\\Continuum\\anaconda3\\lib\\site-packages\\pandas\\core\\nanops.py\u001b[0m in \u001b[0;36mreduction\u001b[1;34m(values, axis, skipna, mask)\u001b[0m\n\u001b[0;32m    740\u001b[0m                 \u001b[0mresult\u001b[0m \u001b[1;33m=\u001b[0m \u001b[0mnp\u001b[0m\u001b[1;33m.\u001b[0m\u001b[0mnan\u001b[0m\u001b[1;33m\u001b[0m\u001b[1;33m\u001b[0m\u001b[0m\n\u001b[0;32m    741\u001b[0m         \u001b[1;32melse\u001b[0m\u001b[1;33m:\u001b[0m\u001b[1;33m\u001b[0m\u001b[1;33m\u001b[0m\u001b[0m\n\u001b[1;32m--> 742\u001b[1;33m             \u001b[0mresult\u001b[0m \u001b[1;33m=\u001b[0m \u001b[0mgetattr\u001b[0m\u001b[1;33m(\u001b[0m\u001b[0mvalues\u001b[0m\u001b[1;33m,\u001b[0m \u001b[0mmeth\u001b[0m\u001b[1;33m)\u001b[0m\u001b[1;33m(\u001b[0m\u001b[0maxis\u001b[0m\u001b[1;33m)\u001b[0m\u001b[1;33m\u001b[0m\u001b[1;33m\u001b[0m\u001b[0m\n\u001b[0m\u001b[0;32m    743\u001b[0m \u001b[1;33m\u001b[0m\u001b[0m\n\u001b[0;32m    744\u001b[0m         \u001b[0mresult\u001b[0m \u001b[1;33m=\u001b[0m \u001b[0m_wrap_results\u001b[0m\u001b[1;33m(\u001b[0m\u001b[0mresult\u001b[0m\u001b[1;33m,\u001b[0m \u001b[0mdtype\u001b[0m\u001b[1;33m,\u001b[0m \u001b[0mfill_value\u001b[0m\u001b[1;33m)\u001b[0m\u001b[1;33m\u001b[0m\u001b[1;33m\u001b[0m\u001b[0m\n",
      "\u001b[1;32m~\\AppData\\Local\\Continuum\\anaconda3\\lib\\site-packages\\numpy\\core\\_methods.py\u001b[0m in \u001b[0;36m_amin\u001b[1;34m(a, axis, out, keepdims, initial)\u001b[0m\n\u001b[0;32m     30\u001b[0m def _amin(a, axis=None, out=None, keepdims=False,\n\u001b[0;32m     31\u001b[0m           initial=_NoValue):\n\u001b[1;32m---> 32\u001b[1;33m     \u001b[1;32mreturn\u001b[0m \u001b[0mumr_minimum\u001b[0m\u001b[1;33m(\u001b[0m\u001b[0ma\u001b[0m\u001b[1;33m,\u001b[0m \u001b[0maxis\u001b[0m\u001b[1;33m,\u001b[0m \u001b[1;32mNone\u001b[0m\u001b[1;33m,\u001b[0m \u001b[0mout\u001b[0m\u001b[1;33m,\u001b[0m \u001b[0mkeepdims\u001b[0m\u001b[1;33m,\u001b[0m \u001b[0minitial\u001b[0m\u001b[1;33m)\u001b[0m\u001b[1;33m\u001b[0m\u001b[1;33m\u001b[0m\u001b[0m\n\u001b[0m\u001b[0;32m     33\u001b[0m \u001b[1;33m\u001b[0m\u001b[0m\n\u001b[0;32m     34\u001b[0m def _sum(a, axis=None, dtype=None, out=None, keepdims=False,\n",
      "\u001b[1;31mTypeError\u001b[0m: '>=' not supported between instances of 'numpy.ndarray' and 'str'"
     ]
    }
   ],
   "source": [
    "resultSeries = nearestWeatherStationResults.iloc[0]\n",
    "print(type(resultSeries))\n",
    "\n",
    "\n",
    "# Normalize the data:\n",
    "\n",
    "def linear_scale(series):\n",
    " min_val = series.min()\n",
    " max_val = series.max()\n",
    " scale = (max_val - min_val) / 2.0\n",
    " return series.apply(lambda x:((x - min_val) / scale) - 1.0)\n",
    "\n",
    "#rainResults = linear_scale(resultSeries)\n",
    "\n",
    "#print(type(rainResults))"
   ]
  },
  {
   "cell_type": "code",
   "execution_count": null,
   "metadata": {},
   "outputs": [],
   "source": []
  }
 ],
 "metadata": {
  "kernelspec": {
   "display_name": "Python 3",
   "language": "python",
   "name": "python3"
  },
  "language_info": {
   "codemirror_mode": {
    "name": "ipython",
    "version": 3
   },
   "file_extension": ".py",
   "mimetype": "text/x-python",
   "name": "python",
   "nbconvert_exporter": "python",
   "pygments_lexer": "ipython3",
   "version": "3.7.3"
  }
 },
 "nbformat": 4,
 "nbformat_minor": 2
}
